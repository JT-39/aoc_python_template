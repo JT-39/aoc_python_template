{
 "cells": [
  {
   "cell_type": "code",
   "execution_count": 1,
   "metadata": {},
   "outputs": [],
   "source": [
    "from word2number import w2n"
   ]
  },
  {
   "cell_type": "markdown",
   "metadata": {},
   "source": [
    "Part 1"
   ]
  },
  {
   "cell_type": "code",
   "execution_count": 85,
   "metadata": {},
   "outputs": [
    {
     "data": {
      "text/plain": [
       "54953"
      ]
     },
     "execution_count": 85,
     "metadata": {},
     "output_type": "execute_result"
    }
   ],
   "source": [
    "# Load .txt file\n",
    "trebuchet_cals = open(\"trebuchet_calibration.txt\").readlines()\n",
    "\n",
    "# Find first digit\n",
    "list_all_dig = []\n",
    "list_num_index = []\n",
    "\n",
    "# Get all digits in each string\n",
    "for n, s in enumerate(trebuchet_cals):\n",
    "    digits = []\n",
    "    indexes = []\n",
    "\n",
    "    for i, c in enumerate(s):\n",
    "\n",
    "        if c.isdigit():\n",
    "            digits.append(c)\n",
    "            indexes.append(i)\n",
    "\n",
    "    list_all_dig.append(digits)\n",
    "    list_num_index.append(indexes)\n",
    "\n",
    "# Keep first and last dig and add as str\n",
    "list_cal_val = []\n",
    "\n",
    "for n, s in enumerate(list_all_dig):\n",
    "\n",
    "    if len(list_all_dig[n]):\n",
    "        concat_val = list_all_dig[n][0] + list_all_dig[n][-1]\n",
    "        list_cal_val.append(concat_val)\n",
    "        \n",
    "# Convert numeric\n",
    "list_cal_val = list(map(int, list_cal_val))\n",
    "    \n",
    "# Sum all values to get Trebuchet calibration\n",
    "sum(list_cal_val)\n"
   ]
  },
  {
   "cell_type": "markdown",
   "metadata": {},
   "source": [
    "Part 2"
   ]
  },
  {
   "cell_type": "code",
   "execution_count": 86,
   "metadata": {},
   "outputs": [
    {
     "data": {
      "text/plain": [
       "53868"
      ]
     },
     "execution_count": 86,
     "metadata": {},
     "output_type": "execute_result"
    }
   ],
   "source": [
    "num_str = [\"one\", \"two\", \"three\", \"four\", \"five\", \"six\", \"seven\", \"eight\", \"nine\"]\n",
    "\n",
    "list_all_word_dig = []\n",
    "list_word_dig_index = []\n",
    "start_index = 0\n",
    "\n",
    "# Get all word numbers in each string\n",
    "for s in trebuchet_cals:\n",
    "    indices = []\n",
    "    number_words = []\n",
    "\n",
    "    # Extract number words and their index from the strings (this deals with duplicates)\n",
    "    for number_word in num_str:\n",
    "        substring = number_word\n",
    "        start_index = 0\n",
    "\n",
    "        while True:\n",
    "            index = s.find(substring, start_index)\n",
    "\n",
    "            # Break loop if can't find any more number words\n",
    "            if index == -1:\n",
    "                break\n",
    "            \n",
    "            indices.append(index)\n",
    "            number_words.append(str(w2n.word_to_num(number_word)))\n",
    "            start_index = index + 1\n",
    "\n",
    "    list_all_word_dig.append(number_words)\n",
    "    list_word_dig_index.append(indices)\n",
    "\n",
    "# Combine number and word num lists\n",
    "list_all_vals = [x + y for x, y in zip(list_all_dig, list_all_word_dig)]\n",
    "list_all_index = [x + y for x, y in zip(list_num_index, list_word_dig_index)]\n",
    "\n",
    "# Find min and max index for each string\n",
    "cal_index = [[l.index(min(l)), l.index(max(l))] for l in list_all_index]\n",
    "\n",
    "# Get the values for these indexes\n",
    "true_cal_vals = [[list_all_vals[i][cal_index[i][0]], list_all_vals[i][cal_index[i][1]]] for i, x in enumerate(list_all_vals)]\n",
    "\n",
    "# Combine each num\n",
    "true_cal_nums = [int(i+l) for i, l in true_cal_vals]\n",
    "\n",
    "# Sum all values\n",
    "sum(true_cal_nums)"
   ]
  }
 ],
 "metadata": {
  "kernelspec": {
   "display_name": "Python 3",
   "language": "python",
   "name": "python3"
  },
  "language_info": {
   "codemirror_mode": {
    "name": "ipython",
    "version": 3
   },
   "file_extension": ".py",
   "mimetype": "text/x-python",
   "name": "python",
   "nbconvert_exporter": "python",
   "pygments_lexer": "ipython3",
   "version": "3.10.11"
  }
 },
 "nbformat": 4,
 "nbformat_minor": 2
}
