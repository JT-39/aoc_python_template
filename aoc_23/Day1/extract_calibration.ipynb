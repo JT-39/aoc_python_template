{
 "cells": [
  {
   "cell_type": "code",
   "execution_count": 1,
   "metadata": {},
   "outputs": [],
   "source": [
    "from word2number import w2n"
   ]
  },
  {
   "cell_type": "markdown",
   "metadata": {},
   "source": [
    "Part 1"
   ]
  },
  {
   "cell_type": "code",
   "execution_count": 32,
   "metadata": {},
   "outputs": [
    {
     "data": {
      "text/plain": [
       "54953"
      ]
     },
     "execution_count": 32,
     "metadata": {},
     "output_type": "execute_result"
    }
   ],
   "source": [
    "# Load .txt file\n",
    "trebuchet_cals = open(\"trebuchet_calibration.txt\").readlines()\n",
    "\n",
    "# Find first digit\n",
    "list_all_dig = []\n",
    "\n",
    "# Get all digits in each string\n",
    "for n, s in enumerate(trebuchet_cals):\n",
    "    digits = []\n",
    "\n",
    "    for i, c in enumerate(s):\n",
    "\n",
    "        if c.isdigit():\n",
    "            digits.append(c)\n",
    "\n",
    "    list_all_dig.append(digits)\n",
    "\n",
    "# Keep first and last dig and add as str\n",
    "list_cal_val = []\n",
    "\n",
    "for n, s in enumerate(list_all_dig):\n",
    "\n",
    "    if len(list_all_dig[n]):\n",
    "        concat_val = list_all_dig[n][0] + list_all_dig[n][-1]\n",
    "        list_cal_val.append(concat_val)\n",
    "        \n",
    "# Convert numeric\n",
    "list_cal_val = list(map(int, list_cal_val))\n",
    "    \n",
    "# Sum all values to get Trebuchet calibration\n",
    "sum(list_cal_val)\n"
   ]
  },
  {
   "cell_type": "markdown",
   "metadata": {},
   "source": [
    "Part 2"
   ]
  },
  {
   "cell_type": "code",
   "execution_count": 33,
   "metadata": {},
   "outputs": [
    {
     "data": {
      "text/plain": [
       "53011"
      ]
     },
     "execution_count": 33,
     "metadata": {},
     "output_type": "execute_result"
    }
   ],
   "source": [
    "num_str = [\"one\", \"two\", \"three\", \"four\", \"five\", \"six\", \"seven\", \"eight\", \"nine\"]\n",
    "\n",
    "list_all_word_dig = []\n",
    "list_word_dig_index = []\n",
    "\n",
    "# Get all word numbers in each string\n",
    "for n, s in enumerate(trebuchet_cals):\n",
    "    \n",
    "    # Extract which word num and convert to int str\n",
    "    word_dig = [str(w2n.word_to_num(word)) for word in num_str if word in s]\n",
    "\n",
    "    # Extract index of first character in word num\n",
    "    word_dig_index = [s.index(word) for word in num_str if word in s]\n",
    "\n",
    "    list_all_word_dig.append(word_dig)\n",
    "    list_word_dig_index.append(word_dig_index)\n",
    "\n",
    "\n",
    "list_num_index = []\n",
    "\n",
    "# Get all digits in each string\n",
    "for n, s in enumerate(trebuchet_cals):\n",
    "    index_digits = [s.index(num) for num in list(map(str, list(range(1, 11)))) if num in s]\n",
    "\n",
    "    list_num_index.append(index_digits)\n",
    "\n",
    "# Sort num list as above index finder places index in numeric order\n",
    "list_all_dig_sorted = [sorted(l) for l in list_all_dig]\n",
    "\n",
    "# Combine number and word num lists\n",
    "list_all_vals = [x + y for x, y in zip(list_all_dig_sorted, list_all_word_dig)]\n",
    "list_all_index = [x + y for x, y in zip(list_num_index, list_word_dig_index)]\n",
    "\n",
    "# Find min and max index for each string\n",
    "cal_index = [[l.index(min(l)), l.index(max(l))] for l in list_all_index]\n",
    "\n",
    "# Get the values for these indexes\n",
    "true_cal_vals = [[list_all_vals[i][cal_index[i][0]], list_all_vals[i][cal_index[i][1]]] for i, x in enumerate(list_all_vals)]\n",
    "\n",
    "# Combine each num\n",
    "true_cal_nums = [int(i+l) for i, l in true_cal_vals]\n",
    "\n",
    "# Sum all values\n",
    "sum(true_cal_nums)"
   ]
  },
  {
   "cell_type": "code",
   "execution_count": 34,
   "metadata": {},
   "outputs": [
    {
     "data": {
      "text/plain": [
       "[99, 11, 37, 38, 38, 56, 64, 81, 38, 67, 88, 38, 99, 25, 57]"
      ]
     },
     "execution_count": 34,
     "metadata": {},
     "output_type": "execute_result"
    }
   ],
   "source": [
    "true_cal_nums[0:15]"
   ]
  },
  {
   "cell_type": "code",
   "execution_count": 37,
   "metadata": {},
   "outputs": [
    {
     "data": {
      "text/plain": [
       "'nineninezsstmkone4sjnlbldcrj4eight\\n'"
      ]
     },
     "execution_count": 37,
     "metadata": {},
     "output_type": "execute_result"
    }
   ],
   "source": [
    "trebuchet_cals[7]"
   ]
  },
  {
   "cell_type": "code",
   "execution_count": 38,
   "metadata": {},
   "outputs": [
    {
     "data": {
      "text/plain": [
       "[3, 2]"
      ]
     },
     "execution_count": 38,
     "metadata": {},
     "output_type": "execute_result"
    }
   ],
   "source": [
    "cal_index[7]"
   ]
  },
  {
   "cell_type": "code",
   "execution_count": 41,
   "metadata": {},
   "outputs": [
    {
     "data": {
      "text/plain": [
       "['4', '4', '1', '8', '9']"
      ]
     },
     "execution_count": 41,
     "metadata": {},
     "output_type": "execute_result"
    }
   ],
   "source": [
    "list_all_vals[7]"
   ]
  },
  {
   "cell_type": "code",
   "execution_count": 42,
   "metadata": {},
   "outputs": [
    {
     "data": {
      "text/plain": [
       "[17, 14, 29, 0]"
      ]
     },
     "execution_count": 42,
     "metadata": {},
     "output_type": "execute_result"
    }
   ],
   "source": [
    "list_all_index[7]"
   ]
  }
 ],
 "metadata": {
  "kernelspec": {
   "display_name": "Python 3",
   "language": "python",
   "name": "python3"
  },
  "language_info": {
   "codemirror_mode": {
    "name": "ipython",
    "version": 3
   },
   "file_extension": ".py",
   "mimetype": "text/x-python",
   "name": "python",
   "nbconvert_exporter": "python",
   "pygments_lexer": "ipython3",
   "version": "3.10.11"
  }
 },
 "nbformat": 4,
 "nbformat_minor": 2
}
