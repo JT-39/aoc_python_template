{
 "cells": [
  {
   "cell_type": "markdown",
   "metadata": {},
   "source": [
    "Part 1"
   ]
  },
  {
   "cell_type": "code",
   "execution_count": 101,
   "metadata": {},
   "outputs": [
    {
     "data": {
      "text/plain": [
       "2085"
      ]
     },
     "execution_count": 101,
     "metadata": {},
     "output_type": "execute_result"
    }
   ],
   "source": [
    "game_results = open(\"elf_game.txt\").readlines()\n",
    "col_balls = [\"red\", \"green\", \"blue\"]\n",
    "\n",
    "clean_results_by_game = []\n",
    "\n",
    "# Get all word numbers in each string\n",
    "for i, res in enumerate(game_results):\n",
    "    clean_results = []\n",
    "    col_num_balls = []\n",
    "\n",
    "    # Extract number words and their index from the strings (this deals with duplicates)\n",
    "    for col in col_balls:\n",
    "        num_balls = []\n",
    "        start_index = 0\n",
    "\n",
    "        while True:\n",
    "            index = res.find(col, start_index)\n",
    "\n",
    "            # Break loop if can't find any more number words\n",
    "            if index == -1:\n",
    "                break\n",
    "\n",
    "            val = \"\"\n",
    "            for char in res[index-4:index-1]:\n",
    "                \n",
    "                if char.isdigit():\n",
    "                    val = val + char\n",
    "\n",
    "            num_balls.append(val)\n",
    "            \n",
    "            start_index = index + 1\n",
    "            \n",
    "            col_num_balls = {col:num_balls}\n",
    "            \n",
    "        clean_results.append(col_num_balls)\n",
    "    \n",
    "\n",
    "    clean_results_by_game.append({i: clean_results})\n",
    "\n",
    "\n",
    "# Thresholds\n",
    "thresholds = {'red': 12, 'green': 13, 'blue': 14}\n",
    "\n",
    "# List to store results\n",
    "result_numbers = []\n",
    "\n",
    "# Check conditions for each number game\n",
    "for game in clean_results_by_game:\n",
    "    bools_for_game = []\n",
    "    for number, values in game.items():\n",
    "        for value in values:\n",
    "\n",
    "            # Extract colour and ball count\n",
    "            color, numbers = list(value.items())[0]\n",
    "\n",
    "            # Check for whether threshold is broken\n",
    "            numbers_above_threshold = any(int(num) > thresholds[color] for num in numbers)\n",
    "            bools_for_game.append(numbers_above_threshold)\n",
    "            \n",
    "        # Add those games that don't break threshold\n",
    "        if any(bools_for_game):\n",
    "            bools_for_game\n",
    "        else:\n",
    "            result_numbers.extend([key + 1 for key in game.keys()])\n",
    "\n",
    "# Sum values of games for part A answer\n",
    "sum(result_numbers)"
   ]
  },
  {
   "cell_type": "markdown",
   "metadata": {},
   "source": [
    "Part B"
   ]
  },
  {
   "cell_type": "code",
   "execution_count": 122,
   "metadata": {},
   "outputs": [
    {
     "data": {
      "text/plain": [
       "79315"
      ]
     },
     "execution_count": 122,
     "metadata": {},
     "output_type": "execute_result"
    }
   ],
   "source": [
    "power_balls = []\n",
    "\n",
    "# Check conditions for each number game\n",
    "for game in clean_results_by_game:\n",
    "    min_balls_col = []\n",
    "    product = 1\n",
    "    for number, values in game.items():\n",
    "        for value in values:\n",
    "\n",
    "            # Extract colour and ball count\n",
    "            color, numbers = list(value.items())[0]\n",
    "            int_numbers = [int(value) for value in numbers]\n",
    "\n",
    "            # Check for whether threshold is broken\n",
    "            numbers_above_threshold = max(int_numbers)\n",
    "            min_balls_col.append(numbers_above_threshold)\n",
    "\n",
    "        # Calc power of each game\n",
    "        for num in min_balls_col:\n",
    "            product *= int(num)\n",
    "\n",
    "        power_balls.append(product)\n",
    "\n",
    "# Sum all values of powers for each game\n",
    "sum(power_balls)"
   ]
  }
 ],
 "metadata": {
  "kernelspec": {
   "display_name": "Python 3",
   "language": "python",
   "name": "python3"
  },
  "language_info": {
   "codemirror_mode": {
    "name": "ipython",
    "version": 3
   },
   "file_extension": ".py",
   "mimetype": "text/x-python",
   "name": "python",
   "nbconvert_exporter": "python",
   "pygments_lexer": "ipython3",
   "version": "3.11.4"
  }
 },
 "nbformat": 4,
 "nbformat_minor": 2
}
